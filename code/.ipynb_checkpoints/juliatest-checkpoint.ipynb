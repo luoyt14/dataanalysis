{
 "cells": [
  {
   "cell_type": "code",
   "execution_count": 1,
   "metadata": {
    "collapsed": true
   },
   "outputs": [],
   "source": [
    "using XLSX"
   ]
  },
  {
   "cell_type": "code",
   "execution_count": 14,
   "metadata": {},
   "outputs": [
    {
     "data": {
      "text/plain": [
       "2041×14 XLSX.Worksheet: [\"data\"](A1:N2041)"
      ]
     },
     "execution_count": 14,
     "metadata": {},
     "output_type": "execute_result"
    }
   ],
   "source": [
    "df = XLSX.readxlsx(\"data.xlsx\")[\"data\"]"
   ]
  },
  {
   "cell_type": "code",
   "execution_count": 26,
   "metadata": {},
   "outputs": [
    {
     "ename": "ErrorException",
     "evalue": "type Array has no field T",
     "output_type": "error",
     "traceback": [
      "type Array has no field T",
      "",
      "Stacktrace:",
      " [1] getproperty(::Any, ::Symbol) at ./sysimg.jl:18",
      " [2] top-level scope at In[26]:3"
     ]
    }
   ],
   "source": [
    "using DataFrames\n",
    "data = df[\"A2:N2041\"]\n",
    "label = df[\"A1:N1\"]"
   ]
  },
  {
   "cell_type": "code",
   "execution_count": 20,
   "metadata": {},
   "outputs": [
    {
     "data": {
      "text/html": [
       "<table class=\"data-frame\"><thead><tr><th></th><th>x1</th><th>x2</th><th>x3</th><th>x4</th><th>x5</th><th>x6</th><th>x7</th><th>x8</th><th>x9</th><th>x10</th><th>x11</th><th>x12</th><th>x13</th><th>x14</th></tr><tr><th></th><th>Any</th><th>Any</th><th>Any</th><th>Any</th><th>Any</th><th>Any</th><th>Any</th><th>Any</th><th>Any</th><th>Any</th><th>Any</th><th>Any</th><th>Any</th><th>Any</th></tr></thead><tbody><tr><th>1</th><td>**手酒吧</td><td>1</td><td>63</td><td>315</td><td>0.0517153</td><td>0.882353</td><td>26.6818</td><td>6.40941</td><td>0.222222</td><td>0.0888889</td><td>23</td><td>0.434783</td><td>0.0857143</td><td>0.0698413</td></tr><tr><th>2</th><td>**秀嘉园</td><td>1</td><td>73</td><td>2</td><td>0.010274</td><td>0.57971</td><td>27.5</td><td>9.04252</td><td>0.40678</td><td>0</td><td>2</td><td>1</td><td>1</td><td>0</td></tr><tr><th>3</th><td>**ˇ⒊無黒\\\\噵丶⒈群</td><td>1</td><td>73</td><td>4</td><td>0.0241629</td><td>0.75</td><td>23.4154</td><td>4.69989</td><td>0.287879</td><td>0.5</td><td>4</td><td>1</td><td>0</td><td>0.25</td></tr><tr><th>4</th><td>**海网管工作联系基地</td><td>1</td><td>91</td><td>14</td><td>0.00610501</td><td>0.901639</td><td>29.4091</td><td>2.85497</td><td>0.340426</td><td>0.142857</td><td>7</td><td>1</td><td>0.25</td><td>0</td></tr><tr><th>5</th><td>tbsgame.net/bbs</td><td>1</td><td>133</td><td>2112</td><td>0.0111073</td><td>0.961832</td><td>30.3197</td><td>4.66987</td><td>0.110236</td><td>0.16714</td><td>327</td><td>0.53211</td><td>0.10464</td><td>0.0378788</td></tr><tr><th>6</th><td>**拜DOTA粉丝群</td><td>1</td><td>85</td><td>91</td><td>0.035014</td><td>0.903614</td><td>26.1125</td><td>4.41586</td><td>0.617284</td><td>0.153846</td><td>30</td><td>0.7</td><td>0.142857</td><td>0.0659341</td></tr><tr><th>7</th><td>**踏联盟</td><td>1</td><td>60</td><td>22</td><td>0.0381356</td><td>0.807692</td><td>29.7381</td><td>4.61911</td><td>0.357143</td><td>1</td><td>4</td><td>0.5</td><td>1</td><td>0.0454545</td></tr><tr><th>8</th><td>**手军团</td><td>1</td><td>74</td><td>115</td><td>0.0862643</td><td>0.833333</td><td>26.3134</td><td>4.22928</td><td>0.228571</td><td>0.208696</td><td>20</td><td>0.55</td><td>0.0347826</td><td>0.026087</td></tr><tr><th>9</th><td>**度赤水贴吧</td><td>1</td><td>55</td><td>1940</td><td>0.0919192</td><td>0.759259</td><td>24.4151</td><td>4.65178</td><td>0.745455</td><td>0.548969</td><td>193</td><td>0.414508</td><td>0.238783</td><td>0.0175258</td></tr><tr><th>10</th><td>**涂鸦天津+</td><td>1</td><td>63</td><td>48</td><td>0.0437788</td><td>0.83871</td><td>23.9333</td><td>4.45671</td><td>0.716667</td><td>0.208333</td><td>18</td><td>0.722222</td><td>0.0833333</td><td>0</td></tr><tr><th>11</th><td>ns万有引力--颓废1群</td><td>1</td><td>72</td><td>177</td><td>0.0160407</td><td>0.873239</td><td>22.4154</td><td>4.49578</td><td>0.119403</td><td>0.175141</td><td>19</td><td>0.842105</td><td>0.327684</td><td>0.00564972</td></tr><tr><th>12</th><td>**弟盟罗马战队总群</td><td>1</td><td>203</td><td>4615</td><td>0.0195825</td><td>0.935323</td><td>28.2</td><td>5.07762</td><td>0.57754</td><td>0.0448537</td><td>546</td><td>0.496337</td><td>0.300108</td><td>0.0580715</td></tr><tr><th>13</th><td>**我的领地③</td><td>1</td><td>81</td><td>5</td><td>0.0058642</td><td>0.705128</td><td>27.9091</td><td>6.82848</td><td>0.12766</td><td>0.4</td><td>3</td><td>1</td><td>0.6</td><td>0</td></tr><tr><th>14</th><td>**游戏圈』市场销售</td><td>1</td><td>76</td><td>2</td><td>0.0387719</td><td>0.788732</td><td>30.4375</td><td>3.1666</td><td>0.246154</td><td>0</td><td>1</td><td>1</td><td>0</td><td>0</td></tr><tr><th>15</th><td>**兽世界-兄弟盟</td><td>1</td><td>98</td><td>3</td><td>0.0416579</td><td>0.819149</td><td>29.0111</td><td>4.03456</td><td>0.354839</td><td>0</td><td>2</td><td>1</td><td>0.666667</td><td>0</td></tr><tr><th>16</th><td>**傲江湖</td><td>1</td><td>113</td><td>100</td><td>0.0930784</td><td>0.779817</td><td>37.3465</td><td>3.70826</td><td>0.121495</td><td>0.12</td><td>31</td><td>0.612903</td><td>0</td><td>0.03</td></tr><tr><th>17</th><td>**下易家人（一）</td><td>1</td><td>185</td><td>51</td><td>0.0146005</td><td>0.859551</td><td>28.4857</td><td>6.1615</td><td>0.307263</td><td>0.352941</td><td>31</td><td>0.83871</td><td>0.156863</td><td>0.0588235</td></tr><tr><th>18</th><td>**火重生</td><td>1</td><td>64</td><td>35</td><td>0.0577877</td><td>0.870968</td><td>29.2679</td><td>4.4541</td><td>0.125</td><td>0.457143</td><td>11</td><td>0.636364</td><td>0.0571429</td><td>0.0285714</td></tr><tr><th>19</th><td>**缘丨战团</td><td>1</td><td>51</td><td>12</td><td>0.0196078</td><td>0.877551</td><td>24.5366</td><td>4.58576</td><td>0.195122</td><td>0.166667</td><td>8</td><td>0.875</td><td>0.0833333</td><td>0.0833333</td></tr><tr><th>20</th><td>**∮龍嘯九天∮→</td><td>1</td><td>100</td><td>11</td><td>0.0274747</td><td>0.753425</td><td>28.0189</td><td>7.90149</td><td>0.259259</td><td>0.272727</td><td>6</td><td>0.833333</td><td>0.636364</td><td>0.272727</td></tr><tr><th>21</th><td>**际の高手乐园</td><td>1</td><td>81</td><td>21</td><td>0.0118827</td><td>0.932203</td><td>26.6222</td><td>4.60091</td><td>0.212766</td><td>0</td><td>5</td><td>1</td><td>0</td><td>0</td></tr><tr><th>22</th><td>**强撸基友团”教会</td><td>1</td><td>274</td><td>143763</td><td>0.00414427</td><td>0.933824</td><td>21.931</td><td>4.71517</td><td>0.776119</td><td>0.157447</td><td>306</td><td>0.20915</td><td>0.242586</td><td>0.20161</td></tr><tr><th>23</th><td>**西北CS竞技比赛群》</td><td>1</td><td>170</td><td>19</td><td>0.0050818</td><td>0.773913</td><td>24.6667</td><td>6.43897</td><td>0.397727</td><td>0.263158</td><td>14</td><td>0.928571</td><td>0.166667</td><td>0</td></tr><tr><th>24</th><td>JPOPPV-衣の国度</td><td>1</td><td>58</td><td>17</td><td>0.030853</td><td>0.87037</td><td>26.28</td><td>6.80306</td><td>0.3</td><td>0.294118</td><td>4</td><td>0.5</td><td>0</td><td>0</td></tr><tr><th>25</th><td>**培集中营</td><td>1</td><td>110</td><td>36</td><td>0.00917431</td><td>0.78125</td><td>27.098</td><td>5.54573</td><td>0.113208</td><td>0.138889</td><td>12</td><td>1</td><td>0.0285714</td><td>0</td></tr><tr><th>26</th><td>**国电梯论坛群十九</td><td>1</td><td>80</td><td>22</td><td>0.00775316</td><td>0.822581</td><td>29.4634</td><td>6.60043</td><td>0.190476</td><td>0</td><td>12</td><td>1</td><td>0.0909091</td><td>0</td></tr><tr><th>27</th><td>**团休闲娱乐总群</td><td>1</td><td>51</td><td>525</td><td>0.0541176</td><td>0.843137</td><td>17.6939</td><td>3.13768</td><td>0.367347</td><td>0.24381</td><td>35</td><td>0.542857</td><td>0.158095</td><td>0.00761905</td></tr><tr><th>28</th><td>**洲澄海3C</td><td>1</td><td>63</td><td>14</td><td>0.063236</td><td>0.927273</td><td>25.0667</td><td>8.52552</td><td>0.734694</td><td>0.214286</td><td>7</td><td>0.857143</td><td>0.714286</td><td>0</td></tr><tr><th>29</th><td>SD王者之师</td><td>1</td><td>72</td><td>62</td><td>0.0209311</td><td>0.852459</td><td>22.3077</td><td>5.24968</td><td>0.377358</td><td>0.0806452</td><td>21</td><td>0.809524</td><td>0.225806</td><td>0.0967742</td></tr><tr><th>30</th><td>**界至尊魔族</td><td>1</td><td>52</td><td>309</td><td>0.0384615</td><td>0.442308</td><td>23.7</td><td>3.16386</td><td>0.196078</td><td>0.158576</td><td>42</td><td>0.690476</td><td>0.0906149</td><td>0.00323625</td></tr><tr><th>&vellip;</th><td>&vellip;</td><td>&vellip;</td><td>&vellip;</td><td>&vellip;</td><td>&vellip;</td><td>&vellip;</td><td>&vellip;</td><td>&vellip;</td><td>&vellip;</td><td>&vellip;</td><td>&vellip;</td><td>&vellip;</td><td>&vellip;</td><td>&vellip;</td></tr></tbody></table>"
      ],
      "text/plain": [
       "2040×14 DataFrame. Omitted printing of 8 columns\n",
       "│ Row  │ x1                   │ x2  │ x3  │ x4   │ x5         │ x6       │\n",
       "│      │ \u001b[90mAny\u001b[39m                  │ \u001b[90mAny\u001b[39m │ \u001b[90mAny\u001b[39m │ \u001b[90mAny\u001b[39m  │ \u001b[90mAny\u001b[39m        │ \u001b[90mAny\u001b[39m      │\n",
       "├──────┼──────────────────────┼─────┼─────┼──────┼────────────┼──────────┤\n",
       "│ 1    │ **手酒吧             │ 1   │ 63  │ 315  │ 0.0517153  │ 0.882353 │\n",
       "│ 2    │ **秀嘉园             │ 1   │ 73  │ 2    │ 0.010274   │ 0.57971  │\n",
       "│ 3    │ **ˇ⒊無黒\\\\噵丶⒈群  │ 1   │ 73  │ 4    │ 0.0241629  │ 0.75     │\n",
       "│ 4    │ **海网管工作联系基地 │ 1   │ 91  │ 14   │ 0.00610501 │ 0.901639 │\n",
       "│ 5    │ tbsgame.net/bbs      │ 1   │ 133 │ 2112 │ 0.0111073  │ 0.961832 │\n",
       "│ 6    │ **拜DOTA粉丝群       │ 1   │ 85  │ 91   │ 0.035014   │ 0.903614 │\n",
       "│ 7    │ **踏联盟             │ 1   │ 60  │ 22   │ 0.0381356  │ 0.807692 │\n",
       "│ 8    │ **手军团             │ 1   │ 74  │ 115  │ 0.0862643  │ 0.833333 │\n",
       "│ 9    │ **度赤水贴吧         │ 1   │ 55  │ 1940 │ 0.0919192  │ 0.759259 │\n",
       "│ 10   │ **涂鸦天津+          │ 1   │ 63  │ 48   │ 0.0437788  │ 0.83871  │\n",
       "⋮\n",
       "│ 2030 │ **涵VIP股票投资7群   │ 5   │ 186 │ 111  │ 0.00191805 │ 0.694444 │\n",
       "│ 2031 │ **国图书封面设计群19 │ 5   │ 64  │ 22   │ 0.031994   │ 0.65625  │\n",
       "│ 2032 │ **标键盘批发1群      │ 5   │ 285 │ 1014 │ 0.0339881  │ 0.756272 │\n",
       "│ 2033 │ **阳数控设备维修群1  │ 5   │ 500 │ 4652 │ 0.00133066 │ 0.738255 │\n",
       "│ 2034 │ **宝互刷群           │ 5   │ 61  │ 176  │ 0.0827869  │ 0.459016 │\n",
       "│ 2035 │ **际电子回收IC－二群 │ 5   │ 177 │ 220  │ 0.0224063  │ 0.778409 │\n",
       "│ 2036 │ **装营销与交流       │ 5   │ 211 │ 181  │ 0.0122546  │ 0.584541 │\n",
       "│ 2037 │ **州马自达汽车配件   │ 5   │ 154 │ 72   │ 0.0241915  │ 0.888889 │\n",
       "│ 2038 │ **售交流心得         │ 5   │ 120 │ 445  │ 0.00217087 │ 0.5625   │\n",
       "│ 2039 │ PCB行业交流群        │ 5   │ 72  │ 55   │ 0.0663146  │ 0.549296 │\n",
       "│ 2040 │ **星渠道room         │ 5   │ 112 │ 1577 │ 0.0899292  │ 0.805556 │"
      ]
     },
     "execution_count": 20,
     "metadata": {},
     "output_type": "execute_result"
    }
   ],
   "source": [
    "dd = DataFrames.DataFrame(data)"
   ]
  },
  {
   "cell_type": "code",
   "execution_count": 25,
   "metadata": {},
   "outputs": [
    {
     "data": {
      "text/plain": [
       "14-element Array{Symbol,1}:\n",
       " :x1 \n",
       " :x2 \n",
       " :x3 \n",
       " :x4 \n",
       " :x5 \n",
       " :x6 \n",
       " :x7 \n",
       " :x8 \n",
       " :x9 \n",
       " :x10\n",
       " :x11\n",
       " :x12\n",
       " :x13\n",
       " :x14"
      ]
     },
     "execution_count": 25,
     "metadata": {},
     "output_type": "execute_result"
    }
   ],
   "source": [
    "names(dd)"
   ]
  },
  {
   "cell_type": "code",
   "execution_count": null,
   "metadata": {
    "collapsed": true
   },
   "outputs": [],
   "source": []
  }
 ],
 "metadata": {
  "kernelspec": {
   "display_name": "Julia 1.0.1",
   "language": "julia",
   "name": "julia-1.0"
  },
  "language_info": {
   "file_extension": ".jl",
   "mimetype": "application/julia",
   "name": "julia",
   "version": "1.0.1"
  }
 },
 "nbformat": 4,
 "nbformat_minor": 2
}
